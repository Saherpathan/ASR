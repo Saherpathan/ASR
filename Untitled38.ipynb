{
  "nbformat": 4,
  "nbformat_minor": 0,
  "metadata": {
    "colab": {
      "provenance": [],
      "gpuType": "T4",
      "authorship_tag": "ABX9TyPy1FAJmVcjuVh39IGLix9r",
      "include_colab_link": true
    },
    "kernelspec": {
      "name": "python3",
      "display_name": "Python 3"
    },
    "language_info": {
      "name": "python"
    },
    "accelerator": "GPU"
  },
  "cells": [
    {
      "cell_type": "markdown",
      "metadata": {
        "id": "view-in-github",
        "colab_type": "text"
      },
      "source": [
        "<a href=\"https://colab.research.google.com/github/Saherpathan/ASR/blob/main/Untitled38.ipynb\" target=\"_parent\"><img src=\"https://colab.research.google.com/assets/colab-badge.svg\" alt=\"Open In Colab\"/></a>"
      ]
    },
    {
      "cell_type": "markdown",
      "source": [
        "Assignment: Audience Rating Prediction\n",
        "\n",
        "---\n",
        "Submitted by:\n",
        "Saher Pathan\n",
        "\n",
        "sahergpathan@gmail.com\n",
        "\n",
        "Date: 20/12/24\n",
        "\n"
      ],
      "metadata": {
        "id": "Mz-i1uFZpFfL"
      }
    },
    {
      "cell_type": "markdown",
      "source": [
        "[Dataset used](https://docs.google.com/spreadsheets/d/1iudRNFp8vSp2K-BG7u276yhgEUoLq0MU/edit?usp=sharing&ouid=107464109217356733956&rtpof=true&sd=true)"
      ],
      "metadata": {
        "id": "KLY51TVMo32g"
      }
    },
    {
      "cell_type": "markdown",
      "source": [
        "Importing necessary libraries\n"
      ],
      "metadata": {
        "id": "yHMIiHZC44Es"
      }
    },
    {
      "cell_type": "code",
      "source": [
        "import pandas as pd\n",
        "import numpy as np\n",
        "from sklearn.model_selection import train_test_split\n",
        "from sklearn.pipeline import Pipeline\n",
        "from sklearn.compose import ColumnTransformer\n",
        "from sklearn.ensemble import RandomForestRegressor\n",
        "from sklearn.feature_extraction.text import TfidfVectorizer\n",
        "from sklearn.preprocessing import StandardScaler, OneHotEncoder\n",
        "from sklearn.metrics import mean_squared_error, r2_score\n",
        "import joblib\n",
        "import ipywidgets as widgets\n",
        "from IPython.display import display\n"
      ],
      "metadata": {
        "id": "JYJUdQp-pD4t"
      },
      "execution_count": 1,
      "outputs": []
    },
    {
      "cell_type": "markdown",
      "source": [
        "Loading the data"
      ],
      "metadata": {
        "id": "hyLnyAKl5Gto"
      }
    },
    {
      "cell_type": "code",
      "source": [
        "df = pd.read_excel(\"/content/Rotten_Tomatoes_Movies3.xls\")\n"
      ],
      "metadata": {
        "id": "hhphq1V75AIB"
      },
      "execution_count": 2,
      "outputs": []
    },
    {
      "cell_type": "markdown",
      "source": [
        "Viewing the given dataset"
      ],
      "metadata": {
        "id": "bsQTpN1L6E6_"
      }
    },
    {
      "cell_type": "code",
      "source": [
        "df.head()"
      ],
      "metadata": {
        "colab": {
          "base_uri": "https://localhost:8080/",
          "height": 712
        },
        "id": "kVwS5VGc6BEW",
        "outputId": "9c0a26c7-8ba1-4b0f-a8ac-30fe41f6c3ab"
      },
      "execution_count": 3,
      "outputs": [
        {
          "output_type": "execute_result",
          "data": {
            "text/plain": [
              "                                         movie_title  \\\n",
              "0  Percy Jackson & the Olympians: The Lightning T...   \n",
              "1                                        Please Give   \n",
              "2                                                 10   \n",
              "3                    12 Angry Men (Twelve Angry Men)   \n",
              "4                       20,000 Leagues Under The Sea   \n",
              "\n",
              "                                          movie_info  \\\n",
              "0  A teenager discovers he's the descendant of a ...   \n",
              "1  Kate has a lot on her mind. There's the ethics...   \n",
              "2  Blake Edwards' 10 stars Dudley Moore as George...   \n",
              "3  A Puerto Rican youth is on trial for murder, a...   \n",
              "4  This 1954 Disney version of Jules Verne's 20,0...   \n",
              "\n",
              "                                   critics_consensus rating  \\\n",
              "0  Though it may seem like just another Harry Pot...     PG   \n",
              "1  Nicole Holofcener's newest might seem slight i...      R   \n",
              "2                                                NaN      R   \n",
              "3  Sidney Lumet's feature debut is a superbly wri...     NR   \n",
              "4  One of Disney's finest live-action adventures,...      G   \n",
              "\n",
              "                                               genre          directors  \\\n",
              "0  Action & Adventure, Comedy, Drama, Science Fic...     Chris Columbus   \n",
              "1                                             Comedy  Nicole Holofcener   \n",
              "2                                    Comedy, Romance      Blake Edwards   \n",
              "3                                    Classics, Drama       Sidney Lumet   \n",
              "4           Action & Adventure, Drama, Kids & Family  Richard Fleischer   \n",
              "\n",
              "             writers                                               cast  \\\n",
              "0       Craig Titley  Logan Lerman, Brandon T. Jackson, Alexandra Da...   \n",
              "1  Nicole Holofcener  Catherine Keener, Amanda Peet, Oliver Platt, R...   \n",
              "2      Blake Edwards  Dudley Moore, Bo Derek, Julie Andrews, Robert ...   \n",
              "3      Reginald Rose  Martin Balsam, John Fiedler, Lee J. Cobb, E.G....   \n",
              "4        Earl Felton  James Mason, Kirk Douglas, Paul Lukas, Peter L...   \n",
              "\n",
              "  in_theaters_date on_streaming_date  runtime_in_minutes  \\\n",
              "0       2010-02-12        2010-06-29                83.0   \n",
              "1       2010-04-30        2010-10-19                90.0   \n",
              "2       1979-10-05        1997-08-27               118.0   \n",
              "3       1957-04-13        2001-03-06                95.0   \n",
              "4       1954-01-01        2003-05-20               127.0   \n",
              "\n",
              "              studio_name tomatometer_status  tomatometer_rating  \\\n",
              "0        20th Century Fox             Rotten                  49   \n",
              "1  Sony Pictures Classics    Certified Fresh                  86   \n",
              "2             Waner Bros.              Fresh                  68   \n",
              "3    Criterion Collection    Certified Fresh                 100   \n",
              "4                  Disney              Fresh                  89   \n",
              "\n",
              "   tomatometer_count  audience_rating  \n",
              "0                144             53.0  \n",
              "1                140             64.0  \n",
              "2                 22             53.0  \n",
              "3                 51             97.0  \n",
              "4                 27             74.0  "
            ],
            "text/html": [
              "\n",
              "  <div id=\"df-88772337-daf1-443d-aaa6-2fcbb9957ddc\" class=\"colab-df-container\">\n",
              "    <div>\n",
              "<style scoped>\n",
              "    .dataframe tbody tr th:only-of-type {\n",
              "        vertical-align: middle;\n",
              "    }\n",
              "\n",
              "    .dataframe tbody tr th {\n",
              "        vertical-align: top;\n",
              "    }\n",
              "\n",
              "    .dataframe thead th {\n",
              "        text-align: right;\n",
              "    }\n",
              "</style>\n",
              "<table border=\"1\" class=\"dataframe\">\n",
              "  <thead>\n",
              "    <tr style=\"text-align: right;\">\n",
              "      <th></th>\n",
              "      <th>movie_title</th>\n",
              "      <th>movie_info</th>\n",
              "      <th>critics_consensus</th>\n",
              "      <th>rating</th>\n",
              "      <th>genre</th>\n",
              "      <th>directors</th>\n",
              "      <th>writers</th>\n",
              "      <th>cast</th>\n",
              "      <th>in_theaters_date</th>\n",
              "      <th>on_streaming_date</th>\n",
              "      <th>runtime_in_minutes</th>\n",
              "      <th>studio_name</th>\n",
              "      <th>tomatometer_status</th>\n",
              "      <th>tomatometer_rating</th>\n",
              "      <th>tomatometer_count</th>\n",
              "      <th>audience_rating</th>\n",
              "    </tr>\n",
              "  </thead>\n",
              "  <tbody>\n",
              "    <tr>\n",
              "      <th>0</th>\n",
              "      <td>Percy Jackson &amp; the Olympians: The Lightning T...</td>\n",
              "      <td>A teenager discovers he's the descendant of a ...</td>\n",
              "      <td>Though it may seem like just another Harry Pot...</td>\n",
              "      <td>PG</td>\n",
              "      <td>Action &amp; Adventure, Comedy, Drama, Science Fic...</td>\n",
              "      <td>Chris Columbus</td>\n",
              "      <td>Craig Titley</td>\n",
              "      <td>Logan Lerman, Brandon T. Jackson, Alexandra Da...</td>\n",
              "      <td>2010-02-12</td>\n",
              "      <td>2010-06-29</td>\n",
              "      <td>83.0</td>\n",
              "      <td>20th Century Fox</td>\n",
              "      <td>Rotten</td>\n",
              "      <td>49</td>\n",
              "      <td>144</td>\n",
              "      <td>53.0</td>\n",
              "    </tr>\n",
              "    <tr>\n",
              "      <th>1</th>\n",
              "      <td>Please Give</td>\n",
              "      <td>Kate has a lot on her mind. There's the ethics...</td>\n",
              "      <td>Nicole Holofcener's newest might seem slight i...</td>\n",
              "      <td>R</td>\n",
              "      <td>Comedy</td>\n",
              "      <td>Nicole Holofcener</td>\n",
              "      <td>Nicole Holofcener</td>\n",
              "      <td>Catherine Keener, Amanda Peet, Oliver Platt, R...</td>\n",
              "      <td>2010-04-30</td>\n",
              "      <td>2010-10-19</td>\n",
              "      <td>90.0</td>\n",
              "      <td>Sony Pictures Classics</td>\n",
              "      <td>Certified Fresh</td>\n",
              "      <td>86</td>\n",
              "      <td>140</td>\n",
              "      <td>64.0</td>\n",
              "    </tr>\n",
              "    <tr>\n",
              "      <th>2</th>\n",
              "      <td>10</td>\n",
              "      <td>Blake Edwards' 10 stars Dudley Moore as George...</td>\n",
              "      <td>NaN</td>\n",
              "      <td>R</td>\n",
              "      <td>Comedy, Romance</td>\n",
              "      <td>Blake Edwards</td>\n",
              "      <td>Blake Edwards</td>\n",
              "      <td>Dudley Moore, Bo Derek, Julie Andrews, Robert ...</td>\n",
              "      <td>1979-10-05</td>\n",
              "      <td>1997-08-27</td>\n",
              "      <td>118.0</td>\n",
              "      <td>Waner Bros.</td>\n",
              "      <td>Fresh</td>\n",
              "      <td>68</td>\n",
              "      <td>22</td>\n",
              "      <td>53.0</td>\n",
              "    </tr>\n",
              "    <tr>\n",
              "      <th>3</th>\n",
              "      <td>12 Angry Men (Twelve Angry Men)</td>\n",
              "      <td>A Puerto Rican youth is on trial for murder, a...</td>\n",
              "      <td>Sidney Lumet's feature debut is a superbly wri...</td>\n",
              "      <td>NR</td>\n",
              "      <td>Classics, Drama</td>\n",
              "      <td>Sidney Lumet</td>\n",
              "      <td>Reginald Rose</td>\n",
              "      <td>Martin Balsam, John Fiedler, Lee J. Cobb, E.G....</td>\n",
              "      <td>1957-04-13</td>\n",
              "      <td>2001-03-06</td>\n",
              "      <td>95.0</td>\n",
              "      <td>Criterion Collection</td>\n",
              "      <td>Certified Fresh</td>\n",
              "      <td>100</td>\n",
              "      <td>51</td>\n",
              "      <td>97.0</td>\n",
              "    </tr>\n",
              "    <tr>\n",
              "      <th>4</th>\n",
              "      <td>20,000 Leagues Under The Sea</td>\n",
              "      <td>This 1954 Disney version of Jules Verne's 20,0...</td>\n",
              "      <td>One of Disney's finest live-action adventures,...</td>\n",
              "      <td>G</td>\n",
              "      <td>Action &amp; Adventure, Drama, Kids &amp; Family</td>\n",
              "      <td>Richard Fleischer</td>\n",
              "      <td>Earl Felton</td>\n",
              "      <td>James Mason, Kirk Douglas, Paul Lukas, Peter L...</td>\n",
              "      <td>1954-01-01</td>\n",
              "      <td>2003-05-20</td>\n",
              "      <td>127.0</td>\n",
              "      <td>Disney</td>\n",
              "      <td>Fresh</td>\n",
              "      <td>89</td>\n",
              "      <td>27</td>\n",
              "      <td>74.0</td>\n",
              "    </tr>\n",
              "  </tbody>\n",
              "</table>\n",
              "</div>\n",
              "    <div class=\"colab-df-buttons\">\n",
              "\n",
              "  <div class=\"colab-df-container\">\n",
              "    <button class=\"colab-df-convert\" onclick=\"convertToInteractive('df-88772337-daf1-443d-aaa6-2fcbb9957ddc')\"\n",
              "            title=\"Convert this dataframe to an interactive table.\"\n",
              "            style=\"display:none;\">\n",
              "\n",
              "  <svg xmlns=\"http://www.w3.org/2000/svg\" height=\"24px\" viewBox=\"0 -960 960 960\">\n",
              "    <path d=\"M120-120v-720h720v720H120Zm60-500h600v-160H180v160Zm220 220h160v-160H400v160Zm0 220h160v-160H400v160ZM180-400h160v-160H180v160Zm440 0h160v-160H620v160ZM180-180h160v-160H180v160Zm440 0h160v-160H620v160Z\"/>\n",
              "  </svg>\n",
              "    </button>\n",
              "\n",
              "  <style>\n",
              "    .colab-df-container {\n",
              "      display:flex;\n",
              "      gap: 12px;\n",
              "    }\n",
              "\n",
              "    .colab-df-convert {\n",
              "      background-color: #E8F0FE;\n",
              "      border: none;\n",
              "      border-radius: 50%;\n",
              "      cursor: pointer;\n",
              "      display: none;\n",
              "      fill: #1967D2;\n",
              "      height: 32px;\n",
              "      padding: 0 0 0 0;\n",
              "      width: 32px;\n",
              "    }\n",
              "\n",
              "    .colab-df-convert:hover {\n",
              "      background-color: #E2EBFA;\n",
              "      box-shadow: 0px 1px 2px rgba(60, 64, 67, 0.3), 0px 1px 3px 1px rgba(60, 64, 67, 0.15);\n",
              "      fill: #174EA6;\n",
              "    }\n",
              "\n",
              "    .colab-df-buttons div {\n",
              "      margin-bottom: 4px;\n",
              "    }\n",
              "\n",
              "    [theme=dark] .colab-df-convert {\n",
              "      background-color: #3B4455;\n",
              "      fill: #D2E3FC;\n",
              "    }\n",
              "\n",
              "    [theme=dark] .colab-df-convert:hover {\n",
              "      background-color: #434B5C;\n",
              "      box-shadow: 0px 1px 3px 1px rgba(0, 0, 0, 0.15);\n",
              "      filter: drop-shadow(0px 1px 2px rgba(0, 0, 0, 0.3));\n",
              "      fill: #FFFFFF;\n",
              "    }\n",
              "  </style>\n",
              "\n",
              "    <script>\n",
              "      const buttonEl =\n",
              "        document.querySelector('#df-88772337-daf1-443d-aaa6-2fcbb9957ddc button.colab-df-convert');\n",
              "      buttonEl.style.display =\n",
              "        google.colab.kernel.accessAllowed ? 'block' : 'none';\n",
              "\n",
              "      async function convertToInteractive(key) {\n",
              "        const element = document.querySelector('#df-88772337-daf1-443d-aaa6-2fcbb9957ddc');\n",
              "        const dataTable =\n",
              "          await google.colab.kernel.invokeFunction('convertToInteractive',\n",
              "                                                    [key], {});\n",
              "        if (!dataTable) return;\n",
              "\n",
              "        const docLinkHtml = 'Like what you see? Visit the ' +\n",
              "          '<a target=\"_blank\" href=https://colab.research.google.com/notebooks/data_table.ipynb>data table notebook</a>'\n",
              "          + ' to learn more about interactive tables.';\n",
              "        element.innerHTML = '';\n",
              "        dataTable['output_type'] = 'display_data';\n",
              "        await google.colab.output.renderOutput(dataTable, element);\n",
              "        const docLink = document.createElement('div');\n",
              "        docLink.innerHTML = docLinkHtml;\n",
              "        element.appendChild(docLink);\n",
              "      }\n",
              "    </script>\n",
              "  </div>\n",
              "\n",
              "\n",
              "<div id=\"df-79701522-bc85-454c-822f-fce0ed94ab99\">\n",
              "  <button class=\"colab-df-quickchart\" onclick=\"quickchart('df-79701522-bc85-454c-822f-fce0ed94ab99')\"\n",
              "            title=\"Suggest charts\"\n",
              "            style=\"display:none;\">\n",
              "\n",
              "<svg xmlns=\"http://www.w3.org/2000/svg\" height=\"24px\"viewBox=\"0 0 24 24\"\n",
              "     width=\"24px\">\n",
              "    <g>\n",
              "        <path d=\"M19 3H5c-1.1 0-2 .9-2 2v14c0 1.1.9 2 2 2h14c1.1 0 2-.9 2-2V5c0-1.1-.9-2-2-2zM9 17H7v-7h2v7zm4 0h-2V7h2v10zm4 0h-2v-4h2v4z\"/>\n",
              "    </g>\n",
              "</svg>\n",
              "  </button>\n",
              "\n",
              "<style>\n",
              "  .colab-df-quickchart {\n",
              "      --bg-color: #E8F0FE;\n",
              "      --fill-color: #1967D2;\n",
              "      --hover-bg-color: #E2EBFA;\n",
              "      --hover-fill-color: #174EA6;\n",
              "      --disabled-fill-color: #AAA;\n",
              "      --disabled-bg-color: #DDD;\n",
              "  }\n",
              "\n",
              "  [theme=dark] .colab-df-quickchart {\n",
              "      --bg-color: #3B4455;\n",
              "      --fill-color: #D2E3FC;\n",
              "      --hover-bg-color: #434B5C;\n",
              "      --hover-fill-color: #FFFFFF;\n",
              "      --disabled-bg-color: #3B4455;\n",
              "      --disabled-fill-color: #666;\n",
              "  }\n",
              "\n",
              "  .colab-df-quickchart {\n",
              "    background-color: var(--bg-color);\n",
              "    border: none;\n",
              "    border-radius: 50%;\n",
              "    cursor: pointer;\n",
              "    display: none;\n",
              "    fill: var(--fill-color);\n",
              "    height: 32px;\n",
              "    padding: 0;\n",
              "    width: 32px;\n",
              "  }\n",
              "\n",
              "  .colab-df-quickchart:hover {\n",
              "    background-color: var(--hover-bg-color);\n",
              "    box-shadow: 0 1px 2px rgba(60, 64, 67, 0.3), 0 1px 3px 1px rgba(60, 64, 67, 0.15);\n",
              "    fill: var(--button-hover-fill-color);\n",
              "  }\n",
              "\n",
              "  .colab-df-quickchart-complete:disabled,\n",
              "  .colab-df-quickchart-complete:disabled:hover {\n",
              "    background-color: var(--disabled-bg-color);\n",
              "    fill: var(--disabled-fill-color);\n",
              "    box-shadow: none;\n",
              "  }\n",
              "\n",
              "  .colab-df-spinner {\n",
              "    border: 2px solid var(--fill-color);\n",
              "    border-color: transparent;\n",
              "    border-bottom-color: var(--fill-color);\n",
              "    animation:\n",
              "      spin 1s steps(1) infinite;\n",
              "  }\n",
              "\n",
              "  @keyframes spin {\n",
              "    0% {\n",
              "      border-color: transparent;\n",
              "      border-bottom-color: var(--fill-color);\n",
              "      border-left-color: var(--fill-color);\n",
              "    }\n",
              "    20% {\n",
              "      border-color: transparent;\n",
              "      border-left-color: var(--fill-color);\n",
              "      border-top-color: var(--fill-color);\n",
              "    }\n",
              "    30% {\n",
              "      border-color: transparent;\n",
              "      border-left-color: var(--fill-color);\n",
              "      border-top-color: var(--fill-color);\n",
              "      border-right-color: var(--fill-color);\n",
              "    }\n",
              "    40% {\n",
              "      border-color: transparent;\n",
              "      border-right-color: var(--fill-color);\n",
              "      border-top-color: var(--fill-color);\n",
              "    }\n",
              "    60% {\n",
              "      border-color: transparent;\n",
              "      border-right-color: var(--fill-color);\n",
              "    }\n",
              "    80% {\n",
              "      border-color: transparent;\n",
              "      border-right-color: var(--fill-color);\n",
              "      border-bottom-color: var(--fill-color);\n",
              "    }\n",
              "    90% {\n",
              "      border-color: transparent;\n",
              "      border-bottom-color: var(--fill-color);\n",
              "    }\n",
              "  }\n",
              "</style>\n",
              "\n",
              "  <script>\n",
              "    async function quickchart(key) {\n",
              "      const quickchartButtonEl =\n",
              "        document.querySelector('#' + key + ' button');\n",
              "      quickchartButtonEl.disabled = true;  // To prevent multiple clicks.\n",
              "      quickchartButtonEl.classList.add('colab-df-spinner');\n",
              "      try {\n",
              "        const charts = await google.colab.kernel.invokeFunction(\n",
              "            'suggestCharts', [key], {});\n",
              "      } catch (error) {\n",
              "        console.error('Error during call to suggestCharts:', error);\n",
              "      }\n",
              "      quickchartButtonEl.classList.remove('colab-df-spinner');\n",
              "      quickchartButtonEl.classList.add('colab-df-quickchart-complete');\n",
              "    }\n",
              "    (() => {\n",
              "      let quickchartButtonEl =\n",
              "        document.querySelector('#df-79701522-bc85-454c-822f-fce0ed94ab99 button');\n",
              "      quickchartButtonEl.style.display =\n",
              "        google.colab.kernel.accessAllowed ? 'block' : 'none';\n",
              "    })();\n",
              "  </script>\n",
              "</div>\n",
              "\n",
              "    </div>\n",
              "  </div>\n"
            ],
            "application/vnd.google.colaboratory.intrinsic+json": {
              "type": "dataframe",
              "variable_name": "df",
              "summary": "{\n  \"name\": \"df\",\n  \"rows\": 16638,\n  \"fields\": [\n    {\n      \"column\": \"movie_title\",\n      \"properties\": {\n        \"dtype\": \"string\",\n        \"num_unique_values\": 16106,\n        \"samples\": [\n          \"White Dog\",\n          \"Out to Sea\",\n          \"The Social Network\"\n        ],\n        \"semantic_type\": \"\",\n        \"description\": \"\"\n      }\n    },\n    {\n      \"column\": \"movie_info\",\n      \"properties\": {\n        \"dtype\": \"string\",\n        \"num_unique_values\": 16613,\n        \"samples\": [\n          \"The Wild West meets the Far East in a battle for honor, royalty and a trunk full of gold when acrobatic Imperial Guard Chong Wang comes to America to rescue a beautiful kidnapped Chinese princess. With the help of a partner he doesn't trust, a wife he doesn't want, a horse he cannot ride and martial arts moves that no one can believe, Chan finds himself facing the meanest gunslingers in the West.\",\n          \"Yusef is a first-generation Pakistani-American engineering student who moves off-campus with a group of Muslim punks in Buffalo, New York. His new \\\"un-orthodox\\\" housemates soon introduce him to Taqwacore - a hardcore, Muslim punk rock scene. As the seasons change, Taqwacore influences the house more and more. The living room becomes a mosque during the day, while it continues to host punk shows at night. Ultimately, Yusef begins to challenge his own faith and ideologies. A powerful and original story of punk Islam in the USA and the discovery of oneself within the confines of religion. -- (C) Strand\",\n          \"Filthy. Rich. Spoiled. Rotten. A band of overprivileged rich boys run wild in this savagely funny satire of money, sex and power. In the elite realm of Oxford University, no society is more exclusive than The Riot Club, the ultra-selective fraternity for Britain's most privileged sons. When he's recruited to join, down-to-earth first-year student Miles (Max Irons) is at first amused-but he's about to get a taste of upper-crust entitlement at its ugliest when a hedonistic night of drinking and drugs spins out of control. The Hunger Games' Sam Claflin co-stars in this deliciously dark look at boys behaving badly from the Oscar(R)-nominated director of An Education. (C) IFC\"\n        ],\n        \"semantic_type\": \"\",\n        \"description\": \"\"\n      }\n    },\n    {\n      \"column\": \"critics_consensus\",\n      \"properties\": {\n        \"dtype\": \"category\",\n        \"num_unique_values\": 8307,\n        \"samples\": [\n          \"Lost and Delirious becomes exactly that, as the film sinks into overwrought melodrama and cliched, obvious symbolism.\",\n          \"Churchill gets sterling work out of Brian Cox in the leading role, but it isn't enough to overcome a muddled and ultimately unsuccessful approach to an incredible real-life story.\",\n          \"The Last Face's noble intentions are nowhere near enough to carry a fundamentally misguided story that arguably demeans the demographic it wants to defend.\"\n        ],\n        \"semantic_type\": \"\",\n        \"description\": \"\"\n      }\n    },\n    {\n      \"column\": \"rating\",\n      \"properties\": {\n        \"dtype\": \"category\",\n        \"num_unique_values\": 8,\n        \"samples\": [\n          \"R\",\n          \"PG-13)\",\n          \"PG\"\n        ],\n        \"semantic_type\": \"\",\n        \"description\": \"\"\n      }\n    },\n    {\n      \"column\": \"genre\",\n      \"properties\": {\n        \"dtype\": \"category\",\n        \"num_unique_values\": 1080,\n        \"samples\": [\n          \"Drama, Kids & Family, Musical & Performing Arts\",\n          \"Drama, Western, Romance\",\n          \"Art House & International, Comedy, Drama, Musical & Performing Arts, Science Fiction & Fantasy\"\n        ],\n        \"semantic_type\": \"\",\n        \"description\": \"\"\n      }\n    },\n    {\n      \"column\": \"directors\",\n      \"properties\": {\n        \"dtype\": \"category\",\n        \"num_unique_values\": 8314,\n        \"samples\": [\n          \"David Caesar\",\n          \"Mikkel Br\\u221a\\u00b6nne Sandemose\",\n          \"K.C. Bascombe\"\n        ],\n        \"semantic_type\": \"\",\n        \"description\": \"\"\n      }\n    },\n    {\n      \"column\": \"writers\",\n      \"properties\": {\n        \"dtype\": \"string\",\n        \"num_unique_values\": 12121,\n        \"samples\": [\n          \"Peter Tolan\",\n          \"Pedro Gonz\\u221a\\u00b0lez-Rubio\",\n          \"Fran\\u221a\\u00dfois Truffaut, Jean-Louis Richard, Helen Scott, David Rudkin\"\n        ],\n        \"semantic_type\": \"\",\n        \"description\": \"\"\n      }\n    },\n    {\n      \"column\": \"cast\",\n      \"properties\": {\n        \"dtype\": \"string\",\n        \"num_unique_values\": 16326,\n        \"samples\": [\n          \"Casper Van Dien, Jane March, Steven Waddington, Winston Ntshona, Rapulana Seiphemo, Sean Taylor, Gys de Villiers, Russel Savadier, Paul Buckby, Zane Meas, Barry Berk, Michael Gritten, Dimitri Cassar, Tony Caprari, Kurt Wurstman, Chris Olley, Joshua Lindberg, Henry van der Berg, Pete Janschk, Danie van Reinsberg, Aubrey Lovett, Paolo Tocha, Nickie Grigg, Neville Strydom, Dieter Hoffman, Pierre van Rensburg, Bismulah Mdaka, Sello Sebotiane, Sello Dlamini, Chester Fukazi, Grant Swanby, Adam Crousdale, Nick Rujewick, Brendan Stapelton, Amy Pearson, Jeneane Wyatt-Mair, Cheryl Lang, Flash Trobajane\",\n          \"Jeanne Bell, Robert De Niro, Harvey Keitel, Amy Robinson, David Proval, Richard Romanus, Cesare Danova, George Memmoli, Julie Andelman, Lenny Scaletta, Jeannie Bell, Victor Argo, Murray Moston, David Carradine, Robert Carradine, Jeanie Bell, Lois Walden, Harry Northrup, Dino Seragusa, D'Mitch Davis, Peter Fain, Juli Andelman, Robert Wilder, Ken Sinclair, Catherine Scorsese, Martin Scorsese, Jaime Alba\",\n          \"Billy Crudup, Ezra Miller, Michael Angarano, Tye Sheridan, Johnny Simmons, Olivia Thirlby, Logan Miller, Thomas Mann, Keir Gilchrist, Gaius Charles, Ki Hong Lee, James Wolk, Moises Arias, Jack Kilmer, Chris Sheffield, James Frecheville, Nicholas Braun, Nelsan Ellis, Matt Bennett, Jesse Carere, Brett Davern, Miles Heizer, Callan McAuliffe, Benedict Samuel, Harrison Thomas, Albert Malafronte, Danielle Lauder, Kate Butler, Jim Klock, Fred Ochs, Alec Holden, Jack Foley, Ross Philips, Aidan Sussman, Armand Vasquez, Kim Robert Koscki\"\n        ],\n        \"semantic_type\": \"\",\n        \"description\": \"\"\n      }\n    },\n    {\n      \"column\": \"in_theaters_date\",\n      \"properties\": {\n        \"dtype\": \"date\",\n        \"min\": \"1914-06-01 00:00:00\",\n        \"max\": \"2019-12-07 00:00:00\",\n        \"num_unique_values\": 5586,\n        \"samples\": [\n          \"1984-01-27 00:00:00\",\n          \"2001-11-02 00:00:00\",\n          \"2007-01-18 00:00:00\"\n        ],\n        \"semantic_type\": \"\",\n        \"description\": \"\"\n      }\n    },\n    {\n      \"column\": \"on_streaming_date\",\n      \"properties\": {\n        \"dtype\": \"date\",\n        \"min\": \"1935-06-06 00:00:00\",\n        \"max\": \"2019-11-01 00:00:00\",\n        \"num_unique_values\": 2260,\n        \"samples\": [\n          \"1995-03-14 00:00:00\",\n          \"2018-07-27 00:00:00\",\n          \"2013-08-27 00:00:00\"\n        ],\n        \"semantic_type\": \"\",\n        \"description\": \"\"\n      }\n    },\n    {\n      \"column\": \"runtime_in_minutes\",\n      \"properties\": {\n        \"dtype\": \"number\",\n        \"std\": 25.02801086709842,\n        \"min\": 1.0,\n        \"max\": 2000.0,\n        \"num_unique_values\": 201,\n        \"samples\": [\n          66.0,\n          86.0,\n          91.0\n        ],\n        \"semantic_type\": \"\",\n        \"description\": \"\"\n      }\n    },\n    {\n      \"column\": \"studio_name\",\n      \"properties\": {\n        \"dtype\": \"category\",\n        \"num_unique_values\": 2886,\n        \"samples\": [\n          \"Three Kings\",\n          \"Original Cinema\",\n          \"Rockstone Releasing\"\n        ],\n        \"semantic_type\": \"\",\n        \"description\": \"\"\n      }\n    },\n    {\n      \"column\": \"tomatometer_status\",\n      \"properties\": {\n        \"dtype\": \"category\",\n        \"num_unique_values\": 3,\n        \"samples\": [\n          \"Rotten\",\n          \"Certified Fresh\",\n          \"Fresh\"\n        ],\n        \"semantic_type\": \"\",\n        \"description\": \"\"\n      }\n    },\n    {\n      \"column\": \"tomatometer_rating\",\n      \"properties\": {\n        \"dtype\": \"number\",\n        \"std\": 28,\n        \"min\": 0,\n        \"max\": 100,\n        \"num_unique_values\": 101,\n        \"samples\": [\n          95,\n          72,\n          12\n        ],\n        \"semantic_type\": \"\",\n        \"description\": \"\"\n      }\n    },\n    {\n      \"column\": \"tomatometer_count\",\n      \"properties\": {\n        \"dtype\": \"number\",\n        \"std\": 66,\n        \"min\": 5,\n        \"max\": 497,\n        \"num_unique_values\": 393,\n        \"samples\": [\n          65,\n          250,\n          308\n        ],\n        \"semantic_type\": \"\",\n        \"description\": \"\"\n      }\n    },\n    {\n      \"column\": \"audience_rating\",\n      \"properties\": {\n        \"dtype\": \"number\",\n        \"std\": 20.462367575517256,\n        \"min\": 0.0,\n        \"max\": 100.0,\n        \"num_unique_values\": 98,\n        \"samples\": [\n          44.0,\n          55.0,\n          99.0\n        ],\n        \"semantic_type\": \"\",\n        \"description\": \"\"\n      }\n    }\n  ]\n}"
            }
          },
          "metadata": {},
          "execution_count": 3
        }
      ]
    },
    {
      "cell_type": "code",
      "source": [
        "df.info()"
      ],
      "metadata": {
        "colab": {
          "base_uri": "https://localhost:8080/"
        },
        "id": "SXXJ4C_M6JZz",
        "outputId": "49599f6e-2349-4324-c84a-b458e1fa8219"
      },
      "execution_count": 4,
      "outputs": [
        {
          "output_type": "stream",
          "name": "stdout",
          "text": [
            "<class 'pandas.core.frame.DataFrame'>\n",
            "RangeIndex: 16638 entries, 0 to 16637\n",
            "Data columns (total 16 columns):\n",
            " #   Column              Non-Null Count  Dtype         \n",
            "---  ------              --------------  -----         \n",
            " 0   movie_title         16638 non-null  object        \n",
            " 1   movie_info          16614 non-null  object        \n",
            " 2   critics_consensus   8309 non-null   object        \n",
            " 3   rating              16638 non-null  object        \n",
            " 4   genre               16621 non-null  object        \n",
            " 5   directors           16524 non-null  object        \n",
            " 6   writers             15289 non-null  object        \n",
            " 7   cast                16354 non-null  object        \n",
            " 8   in_theaters_date    15823 non-null  datetime64[ns]\n",
            " 9   on_streaming_date   16636 non-null  datetime64[ns]\n",
            " 10  runtime_in_minutes  16483 non-null  float64       \n",
            " 11  studio_name         16222 non-null  object        \n",
            " 12  tomatometer_status  16638 non-null  object        \n",
            " 13  tomatometer_rating  16638 non-null  int64         \n",
            " 14  tomatometer_count   16638 non-null  int64         \n",
            " 15  audience_rating     16386 non-null  float64       \n",
            "dtypes: datetime64[ns](2), float64(2), int64(2), object(10)\n",
            "memory usage: 2.0+ MB\n"
          ]
        }
      ]
    },
    {
      "cell_type": "markdown",
      "source": [
        "Selecting the features along with the target"
      ],
      "metadata": {
        "id": "lyiQSVQ65NSr"
      }
    },
    {
      "cell_type": "code",
      "source": [
        "\n",
        "X = df[['movie_info', 'critics_consensus', 'tomatometer_rating',\n",
        "        'tomatometer_count', 'runtime_in_minutes', 'genre', 'rating', 'studio_name']]\n",
        "y = df['audience_rating']\n",
        "\n",
        "# Split dataset into training and testing sets (80% train, 20% test)\n",
        "X_train, X_test, y_train, y_test = train_test_split(X, y, test_size=0.2, random_state=42)\n"
      ],
      "metadata": {
        "id": "CgfIf7zX5MiC"
      },
      "execution_count": 5,
      "outputs": []
    },
    {
      "cell_type": "markdown",
      "source": [
        "Data Imputing"
      ],
      "metadata": {
        "id": "du9zqv4e69E0"
      }
    },
    {
      "cell_type": "code",
      "source": [
        "# Impute missing values in 'movie_info' and 'critics_consensus' with empty strings\n",
        "X_train['movie_info'] = X_train['movie_info'].fillna('')\n",
        "X_train['critics_consensus'] = X_train['critics_consensus'].fillna('')\n",
        "\n",
        "# Impute missing values in other columns with appropriate strategies\n",
        "# For example, for numerical features, you can use the mean or median:\n",
        "X_train['runtime_in_minutes'] = X_train['runtime_in_minutes'].fillna(X_train['runtime_in_minutes'].mean())\n",
        "\n",
        "# For categorical features, you can use the most frequent category or a separate category for missing values:\n",
        "X_train['genre'] = X_train['genre'].fillna(X_train['genre'].mode()[0])\n",
        "\n",
        "# Additionally, impute missing values in the target variable 'y_train'\n",
        "# Here, we use the mean, but you can choose other strategies like median\n",
        "y_train = y_train.fillna(y_train.mean())\n"
      ],
      "metadata": {
        "id": "RbxO5COC6qr3"
      },
      "execution_count": 6,
      "outputs": []
    },
    {
      "cell_type": "markdown",
      "source": [
        "Defining pre-processing pipeline"
      ],
      "metadata": {
        "id": "vacXvryf5a3Y"
      }
    },
    {
      "cell_type": "code",
      "source": [
        "# TfidfVectorizer for textual features\n",
        "text_transformer = TfidfVectorizer(max_features=100)\n",
        "\n",
        "# StandardScaler for numerical features\n",
        "numerical_transformer = StandardScaler()\n",
        "\n",
        "# OneHotEncoder for categorical features\n",
        "categorical_transformer = OneHotEncoder(handle_unknown='ignore')\n",
        "\n",
        "# Combining the transformers using ColumnTransformer\n",
        "preprocessor = ColumnTransformer(\n",
        "    transformers=[\n",
        "        ('text', text_transformer, 'movie_info'),\n",
        "        ('critic_text', text_transformer, 'critics_consensus'),\n",
        "        ('num', numerical_transformer, ['tomatometer_rating', 'tomatometer_count', 'runtime_in_minutes']),\n",
        "        ('cat', categorical_transformer, ['genre', 'rating', 'studio_name'])\n",
        "    ])\n"
      ],
      "metadata": {
        "id": "OBav5f5a5eSc"
      },
      "execution_count": 7,
      "outputs": []
    },
    {
      "cell_type": "markdown",
      "source": [
        "Training the model"
      ],
      "metadata": {
        "id": "LDTVPLQG6Xx8"
      }
    },
    {
      "cell_type": "code",
      "source": [
        "# Full pipeline with RandomForestRegressor as the model\n",
        "model_pipeline = Pipeline(steps=[\n",
        "    ('preprocessor', preprocessor),\n",
        "    ('regressor', RandomForestRegressor(n_estimators=100, random_state=42))\n",
        "])\n",
        "\n",
        "# Train the model\n",
        "model_pipeline.fit(X_train, y_train)\n",
        "\n",
        "# Save the model for later use\n",
        "joblib.dump(model_pipeline, 'audience_rating_model.pkl')\n"
      ],
      "metadata": {
        "id": "bY1irAs35vnM"
      },
      "execution_count": null,
      "outputs": []
    },
    {
      "cell_type": "markdown",
      "source": [
        "Making the predictions"
      ],
      "metadata": {
        "id": "lhmV-0n87N2C"
      }
    },
    {
      "cell_type": "code",
      "source": [
        "# Make predictions on the test set\n",
        "y_pred = model_pipeline.predict(X_test)\n"
      ],
      "metadata": {
        "id": "aReA_Tgr7Qka"
      },
      "execution_count": null,
      "outputs": []
    },
    {
      "cell_type": "markdown",
      "source": [
        "Evaluating the model\n"
      ],
      "metadata": {
        "id": "nnelF0eG7Cke"
      }
    },
    {
      "cell_type": "code",
      "source": [
        "# Evaluate the model\n",
        "mse = mean_squared_error(y_test, y_pred)\n",
        "r2 = r2_score(y_test, y_pred)\n",
        "\n",
        "print(f\"Mean Squared Error: {mse:.2f}\")\n",
        "print(f\"R² Score: {r2:.2f}\")\n"
      ],
      "metadata": {
        "id": "iBPgU7Ax7GqW"
      },
      "execution_count": null,
      "outputs": []
    },
    {
      "cell_type": "markdown",
      "source": [
        "Interactive Prediction Interface\n"
      ],
      "metadata": {
        "id": "A16huH5L7VE5"
      }
    },
    {
      "cell_type": "code",
      "source": [
        "# Load the trained model\n",
        "model = joblib.load('audience_rating_model.pkl')\n",
        "\n",
        "# Widgets for user input\n",
        "movie_info_input = widgets.Textarea(value=\"Enter movie info here...\", description=\"Movie Info:\", layout=widgets.Layout(width='80%'))\n",
        "critics_consensus_input = widgets.Textarea(value=\"Enter critics' consensus...\", description=\"Critics:\", layout=widgets.Layout(width='80%'))\n",
        "tomatometer_rating_input = widgets.IntSlider(value=50, min=0, max=100, description=\"Tomatometer:\")\n",
        "tomatometer_count_input = widgets.IntText(value=10, description=\"Tomato Count:\")\n",
        "runtime_input = widgets.IntText(value=90, description=\"Runtime (mins):\")\n",
        "genre_input = widgets.Dropdown(options=['Action', 'Comedy', 'Drama', 'Romance', 'Horror', 'Sci-Fi'], value='Drama', description=\"Genre:\")\n",
        "rating_input = widgets.Dropdown(options=['G', 'PG', 'PG-13', 'R', 'NR'], value='PG', description=\"Rating:\")\n",
        "studio_input = widgets.Text(value=\"Enter studio name\", description=\"Studio:\")\n",
        "\n",
        "# Prediction Button\n",
        "predict_button = widgets.Button(description=\"Predict Rating\")\n",
        "\n",
        "# Output widget for displaying result\n",
        "output = widgets.Output()\n",
        "\n",
        "# Define prediction function\n",
        "def predict_rating(_):\n",
        "    # Collect input data\n",
        "    input_data = pd.DataFrame({\n",
        "        'movie_info': [movie_info_input.value],\n",
        "        'critics_consensus': [critics_consensus_input.value],\n",
        "        'tomatometer_rating': [tomatometer_rating_input.value],\n",
        "        'tomatometer_count': [tomatometer_count_input.value],\n",
        "        'runtime_in_minutes': [runtime_input.value],\n",
        "        'genre': [genre_input.value],\n",
        "        'rating': [rating_input.value],\n",
        "        'studio_name': [studio_input.value]\n",
        "    })\n",
        "\n",
        "    # Get prediction\n",
        "    prediction = model.predict(input_data)[0]\n",
        "\n",
        "    # Display result\n",
        "    with output:\n",
        "        output.clear_output()\n",
        "        print(f\"🌟 Predicted Audience Rating: {prediction:.2f}\")\n",
        "\n",
        "predict_button.on_click(predict_rating)\n",
        "\n",
        "# Display the input widgets and prediction button\n",
        "display(movie_info_input, critics_consensus_input, tomatometer_rating_input,\n",
        "        tomatometer_count_input, runtime_input, genre_input, rating_input,\n",
        "        studio_input, predict_button, output)\n"
      ],
      "metadata": {
        "id": "96PP0tgl7pv3"
      },
      "execution_count": null,
      "outputs": []
    }
  ]
}